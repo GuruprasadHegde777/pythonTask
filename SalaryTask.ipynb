{
 "cells": [
  {
   "cell_type": "code",
   "execution_count": null,
   "metadata": {},
   "outputs": [],
   "source": [
    "employee = ['John', 'Mary', 'Krishna', 'Namesh', 'Aastha', 'Jason', 'Kavita', 'Ravi', 'Shruti', 'Shubham']\n",
    "salaries = (10000, 12000, 13000, 18500, 11000, 19800, 20000, 23500, 19450, 8000)\n",
    "ratings = (2.3, 4.7, 4.3, 9.9, 8.4, 6.1, 6.1, 4.0, 8.8, 9.3)"
   ]
  },
  {
   "cell_type": "code",
   "execution_count": null,
   "metadata": {},
   "outputs": [],
   "source": [
    "res = {}\n",
    "for i in range(len(employee)):\n",
    "    if ratings[i] >= 0 and ratings[i] < 3:\n",
    "        t = salaries[i]\n",
    "        res[employee[i]] = t\n",
    "    if ratings[i] >= 3 and ratings[i] < 5:\n",
    "        t = salaries[i] + salaries[i] * 0.03\n",
    "        res[employee[i]] = t\n",
    "    elif ratings[i] >= 5 and ratings[i] < 7:\n",
    "        t = salaries[i] + salaries[i] * 0.05\n",
    "        res[employee[i]] = t\n",
    "    elif ratings[i] >= 7 and ratings[i] < 9:\n",
    "        t = salaries[i] + salaries[i] * 0.07\n",
    "        res[employee[i]] = t\n",
    "    elif ratings[i] >= 9:\n",
    "        t = (salaries[i] + salaries[i] * 0.07) + (salaries[i] * 0.1)\n",
    "        res[employee[i]] = t\n",
    "    \n",
    "    \n",
    "    \n"
   ]
  }
 ],
 "metadata": {
  "kernelspec": {
   "display_name": "Python 3",
   "language": "python",
   "name": "python3"
  },
  "language_info": {
   "codemirror_mode": {
    "name": "ipython",
    "version": 3
   },
   "file_extension": ".py",
   "mimetype": "text/x-python",
   "name": "python",
   "nbconvert_exporter": "python",
   "pygments_lexer": "ipython3",
   "version": "3.7.6"
  }
 },
 "nbformat": 4,
 "nbformat_minor": 4
}
