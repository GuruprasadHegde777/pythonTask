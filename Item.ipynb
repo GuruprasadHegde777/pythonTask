{
 "cells": [
  {
   "cell_type": "code",
   "execution_count": 1,
   "metadata": {},
   "outputs": [],
   "source": [
    "items = {'1':{'name':'pen','MRP':10,'qty':50},'2':{'name':'pencil','MRP':10,'qty':50},\n",
    "         '3':{'name':'eraiser','MRP':5,'qty':100},'4':{'name':'sharpner','MRP':5,'qty':100},\n",
    "         '5':{'name':'notebook','MRP':30,'qty':200},'6':{'name':'txtbook','MRP':250,'qty':50},\n",
    "         '7':{'name':'colorpen','MRP':20,'qty':100},'8':{'name':'slate','MRP':100,'qty':50},\n",
    "         '9':{'name':'bindroll','MRP':50,'qty':50},'10':{'name':'compass','MRP':25,'qty':100},\n",
    "         '11':{'name':'geobox','MRP':150,'qty':50},'12':{'name':'dairy','MRP':100,'qty':50},\n",
    "         '13':{'name':'protractor','MRP':20,'qty':100},'14':{'name':'sketchpen','MRP':100,'qty':50},\n",
    "         '15':{'name':'wtrcolor','MRP':200,'qty':50},'16':{'name':'marker','MRP':50,'qty':50},\n",
    "         '17':{'name':'sticker','MRP':20,'qty':200},'18':{'name':'bag','MRP':300,'qty':50},\n",
    "         '19':{'name':'shoe','MRP':1000,'qty':50},'20':{'name':'sheet','MRP':100,'qty':50}}\n",
    "\n",
    "         "
   ]
  },
  {
   "cell_type": "code",
   "execution_count": null,
   "metadata": {},
   "outputs": [
    {
     "name": "stdout",
     "output_type": "stream",
     "text": [
      "1.Show list\n",
      " 2.Purchase\n",
      " 3.Exit\n",
      "\n"
     ]
    },
    {
     "name": "stdin",
     "output_type": "stream",
     "text": [
      "Enter a choice:  1\n"
     ]
    },
    {
     "name": "stdout",
     "output_type": "stream",
     "text": [
      "Items list: \n",
      "\n",
      "1 {'name': 'pen', 'MRP': 10, 'qty': 50}\n",
      "2 {'name': 'pencil', 'MRP': 10, 'qty': 50}\n",
      "3 {'name': 'eraiser', 'MRP': 5, 'qty': 100}\n",
      "4 {'name': 'sharpner', 'MRP': 5, 'qty': 100}\n",
      "5 {'name': 'notebook', 'MRP': 30, 'qty': 200}\n",
      "6 {'name': 'txtbook', 'MRP': 250, 'qty': 50}\n",
      "7 {'name': 'colorpen', 'MRP': 20, 'qty': 100}\n",
      "8 {'name': 'slate', 'MRP': 100, 'qty': 50}\n",
      "9 {'name': 'bindroll', 'MRP': 50, 'qty': 50}\n",
      "10 {'name': 'compass', 'MRP': 25, 'qty': 100}\n",
      "11 {'name': 'geobox', 'MRP': 150, 'qty': 50}\n",
      "12 {'name': 'dairy', 'MRP': 100, 'qty': 50}\n",
      "13 {'name': 'protractor', 'MRP': 20, 'qty': 100}\n",
      "14 {'name': 'sketchpen', 'MRP': 100, 'qty': 50}\n",
      "15 {'name': 'wtrcolor', 'MRP': 200, 'qty': 50}\n",
      "16 {'name': 'marker', 'MRP': 50, 'qty': 50}\n",
      "17 {'name': 'sticker', 'MRP': 20, 'qty': 200}\n",
      "18 {'name': 'bag', 'MRP': 300, 'qty': 50}\n",
      "19 {'name': 'shoe', 'MRP': 1000, 'qty': 50}\n",
      "20 {'name': 'sheet', 'MRP': 100, 'qty': 50}\n",
      "1.Show list\n",
      " 2.Purchase\n",
      " 3.Exit\n",
      "\n"
     ]
    },
    {
     "name": "stdin",
     "output_type": "stream",
     "text": [
      "Enter a choice:  2\n",
      "Enter item ID:  4\n",
      "Enter quantity:  10\n"
     ]
    },
    {
     "name": "stdout",
     "output_type": "stream",
     "text": [
      "Purchase successful\n",
      "1.Show list\n",
      " 2.Purchase\n",
      " 3.Exit\n",
      "\n"
     ]
    },
    {
     "name": "stdin",
     "output_type": "stream",
     "text": [
      "Enter a choice:  1\n"
     ]
    },
    {
     "name": "stdout",
     "output_type": "stream",
     "text": [
      "Items list: \n",
      "\n",
      "1 {'name': 'pen', 'MRP': 10, 'qty': 50}\n",
      "2 {'name': 'pencil', 'MRP': 10, 'qty': 50}\n",
      "3 {'name': 'eraiser', 'MRP': 5, 'qty': 100}\n",
      "4 {'name': 'sharpner', 'MRP': 5, 'qty': 90}\n",
      "5 {'name': 'notebook', 'MRP': 30, 'qty': 200}\n",
      "6 {'name': 'txtbook', 'MRP': 250, 'qty': 50}\n",
      "7 {'name': 'colorpen', 'MRP': 20, 'qty': 100}\n",
      "8 {'name': 'slate', 'MRP': 100, 'qty': 50}\n",
      "9 {'name': 'bindroll', 'MRP': 50, 'qty': 50}\n",
      "10 {'name': 'compass', 'MRP': 25, 'qty': 100}\n",
      "11 {'name': 'geobox', 'MRP': 150, 'qty': 50}\n",
      "12 {'name': 'dairy', 'MRP': 100, 'qty': 50}\n",
      "13 {'name': 'protractor', 'MRP': 20, 'qty': 100}\n",
      "14 {'name': 'sketchpen', 'MRP': 100, 'qty': 50}\n",
      "15 {'name': 'wtrcolor', 'MRP': 200, 'qty': 50}\n",
      "16 {'name': 'marker', 'MRP': 50, 'qty': 50}\n",
      "17 {'name': 'sticker', 'MRP': 20, 'qty': 200}\n",
      "18 {'name': 'bag', 'MRP': 300, 'qty': 50}\n",
      "19 {'name': 'shoe', 'MRP': 1000, 'qty': 50}\n",
      "20 {'name': 'sheet', 'MRP': 100, 'qty': 50}\n",
      "1.Show list\n",
      " 2.Purchase\n",
      " 3.Exit\n",
      "\n"
     ]
    }
   ],
   "source": [
    "while(True):\n",
    "    print(\"1.Show list\\n 2.Purchase\\n 3.Exit\\n\")\n",
    "    c = input(\"Enter a choice: \")\n",
    "    if c == '1':\n",
    "        print(\"Items list: \\n\")\n",
    "        for i in items:\n",
    "            print(i,items[i])\n",
    "    elif c == '2':\n",
    "        id = input(\"Enter item ID: \")\n",
    "        if id in items:\n",
    "            qt = int(input(\"Enter quantity: \"))\n",
    "            if qt <= items[id]['qty']:\n",
    "                print(\"Purchase successful\")\n",
    "                items[id]['qty'] = items[id]['qty'] - qt\n",
    "            else:\n",
    "                print(\"Unavailable quantity\")\n",
    "        else:\n",
    "            print(\"Invalid ID\")\n",
    "    elif c == '3':\n",
    "        break\n",
    "    else:\n",
    "        print(\"Invalid choice\")\n",
    "        \n",
    "    "
   ]
  },
  {
   "cell_type": "code",
   "execution_count": null,
   "metadata": {},
   "outputs": [],
   "source": []
  }
 ],
 "metadata": {
  "kernelspec": {
   "display_name": "Python 3",
   "language": "python",
   "name": "python3"
  },
  "language_info": {
   "codemirror_mode": {
    "name": "ipython",
    "version": 3
   },
   "file_extension": ".py",
   "mimetype": "text/x-python",
   "name": "python",
   "nbconvert_exporter": "python",
   "pygments_lexer": "ipython3",
   "version": "3.7.6"
  }
 },
 "nbformat": 4,
 "nbformat_minor": 4
}
