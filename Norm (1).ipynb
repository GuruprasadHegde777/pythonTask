{
 "cells": [
  {
   "cell_type": "code",
   "execution_count": 4,
   "metadata": {},
   "outputs": [],
   "source": [
    "list1 = ['book', 'man', 'woman']\n",
    "list2 = ['character', 'python', 'location', 'green']\n",
    "list3 = ['python', 'mumbai', 'melbourne']\n",
    "list4 = ['parliament', 'sport', 'ecommerce']"
   ]
  },
  {
   "cell_type": "code",
   "execution_count": 6,
   "metadata": {},
   "outputs": [
    {
     "name": "stdout",
     "output_type": "stream",
     "text": [
      "[5, 9, 9, 10]\n"
     ]
    }
   ],
   "source": [
    "x = []\n",
    "def myfun(a,b,c,d):\n",
    "    mx = 0\n",
    "    for i in a:\n",
    "        if len(i) > mx:\n",
    "            mx = len(i)\n",
    "    x.append(mx)\n",
    "    mx = 0\n",
    "    for i in b:\n",
    "        if len(i) > mx:\n",
    "            mx = len(i)\n",
    "    x.append(mx)\n",
    "    mx = 0\n",
    "    for i in c:\n",
    "        if len(i) > mx:\n",
    "            mx = len(i)\n",
    "    x.append(mx)\n",
    "    mx = 0\n",
    "    for i in d:\n",
    "        if len(i) > mx:\n",
    "            mx = len(i)\n",
    "    x.append(mx)\n",
    "    return x\n",
    "print(myfun(list1,list2,list3,list4))\n",
    "        \n",
    "    "
   ]
  },
  {
   "cell_type": "code",
   "execution_count": 7,
   "metadata": {},
   "outputs": [
    {
     "name": "stdout",
     "output_type": "stream",
     "text": [
      "[0.15151515151515152, 0.2727272727272727, 0.2727272727272727, 0.30303030303030304]\n"
     ]
    }
   ],
   "source": [
    "def norm(x):\n",
    "    s = sum(x)\n",
    "    for i in range(len(x)):\n",
    "        x[i] = x[i] / s\n",
    "    return x\n",
    "print(norm(x))"
   ]
  },
  {
   "cell_type": "code",
   "execution_count": null,
   "metadata": {},
   "outputs": [],
   "source": []
  }
 ],
 "metadata": {
  "kernelspec": {
   "display_name": "Python 3",
   "language": "python",
   "name": "python3"
  },
  "language_info": {
   "codemirror_mode": {
    "name": "ipython",
    "version": 3
   },
   "file_extension": ".py",
   "mimetype": "text/x-python",
   "name": "python",
   "nbconvert_exporter": "python",
   "pygments_lexer": "ipython3",
   "version": "3.7.6"
  }
 },
 "nbformat": 4,
 "nbformat_minor": 4
}
