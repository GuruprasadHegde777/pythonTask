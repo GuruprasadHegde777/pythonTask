{
 "cells": [
  {
   "cell_type": "code",
   "execution_count": 2,
   "metadata": {},
   "outputs": [
    {
     "name": "stdout",
     "output_type": "stream",
     "text": [
      "[('ALEX', 4), ('JOHN', 4), ('SMITH', 5)]\n"
     ]
    }
   ],
   "source": [
    "#1\n",
    "res = []\n",
    "def names(x):\n",
    "    for i in x:\n",
    "        res.append((i.upper(),len(i)))\n",
    "    return res\n",
    "print(names(['Alex','John','Smith']))\n",
    "        \n",
    "    "
   ]
  },
  {
   "cell_type": "code",
   "execution_count": 5,
   "metadata": {},
   "outputs": [
    {
     "name": "stdout",
     "output_type": "stream",
     "text": [
      "[1984, 13, 1000]\n"
     ]
    }
   ],
   "source": [
    "#2\n",
    "res1 = []\n",
    "def num(x):\n",
    "    for i in x.split():\n",
    "        if i.isnumeric():\n",
    "            res1.append(int(i))\n",
    "    return res1\n",
    "print(num('In 1984 there were 13 instances of a protest with over 1000 people attending'))"
   ]
  },
  {
   "cell_type": "code",
   "execution_count": null,
   "metadata": {},
   "outputs": [],
   "source": []
  }
 ],
 "metadata": {
  "kernelspec": {
   "display_name": "Python 3",
   "language": "python",
   "name": "python3"
  },
  "language_info": {
   "codemirror_mode": {
    "name": "ipython",
    "version": 3
   },
   "file_extension": ".py",
   "mimetype": "text/x-python",
   "name": "python",
   "nbconvert_exporter": "python",
   "pygments_lexer": "ipython3",
   "version": "3.7.6"
  }
 },
 "nbformat": 4,
 "nbformat_minor": 4
}
