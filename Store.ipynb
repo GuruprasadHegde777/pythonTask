{
 "cells": [
  {
   "cell_type": "code",
   "execution_count": null,
   "id": "7a4496e0",
   "metadata": {},
   "outputs": [],
   "source": [
    "items = {'1':{'name':'pen','MRP':10,'qty':50},'2':{'name':'pencil','MRP':10,'qty':50},\n",
    "         '3':{'name':'eraiser','MRP':5,'qty':100},'4':{'name':'sharpner','MRP':5,'qty':100},\n",
    "         '5':{'name':'notebook','MRP':30,'qty':200},'6':{'name':'txtbook','MRP':250,'qty':50},\n",
    "         '7':{'name':'colorpen','MRP':20,'qty':100},'8':{'name':'slate','MRP':100,'qty':50},\n",
    "         '9':{'name':'bindroll','MRP':50,'qty':50},'10':{'name':'compass','MRP':25,'qty':100},\n",
    "         '11':{'name':'geobox','MRP':150,'qty':50},'12':{'name':'dairy','MRP':100,'qty':50},\n",
    "         '13':{'name':'protractor','MRP':20,'qty':100},'14':{'name':'sketchpen','MRP':100,'qty':50},\n",
    "         '15':{'name':'wtrcolor','MRP':200,'qty':50},'16':{'name':'marker','MRP':50,'qty':50},\n",
    "         '17':{'name':'sticker','MRP':20,'qty':200},'18':{'name':'bag','MRP':300,'qty':50},\n",
    "         '19':{'name':'shoe','MRP':1000,'qty':50},'20':{'name':'sheet','MRP':100,'qty':50}}"
   ]
  },
  {
   "cell_type": "code",
   "execution_count": null,
   "id": "7909ef31",
   "metadata": {},
   "outputs": [],
   "source": [
    "def showlist():\n",
    "    print(\"Items list: \\n\")\n",
    "    for i in items:\n",
    "        print(i,items[i])\n",
    "        \n",
    "def order(oid):\n",
    "    id = input(\"Enter item ID: \")\n",
    "    if id in items:\n",
    "        qt = int(input(\"Enter quantity: \"))\n",
    "        if qt <= items[id]['qty']:\n",
    "            total = qt * int(items[id]['MRP'])\n",
    "            print(\"Purchase successful\")\n",
    "            f = open(\"bill.txt\",\"a\")\n",
    "            s = \"******* BILL *******\\n Order ID: #{}\\n Name: {}\\n MRP: {}\\n Qty: {}\\n Total: {}\\n ********************\\n\".format(oid,items[id]['name'],items[id]['MRP'],qt,total)\n",
    "            f.writelines(s)\n",
    "            f.close()\n",
    "            f = open(\"bill.txt\",'r')\n",
    "            print(f.read())\n",
    "            f.close()\n",
    "            items[id]['qty'] = items[id]['qty'] - qt\n",
    "        else:\n",
    "            print(\"Qunatity is too large\\n Available quantity is {}\".format(items[id]['qty']))\n",
    "    else:\n",
    "        print('Invalid key')\n",
    "    \n",
    "oid = 0\n",
    "f = open(\"bill.txt\",\"w\")\n",
    "f.close()\n",
    "while(True):\n",
    "    print(\"1.Show list\\n 2.Purchase\\n 3.Exit\\n\")\n",
    "    c = input(\"Enter a choice: \")\n",
    "    if c == '1':\n",
    "        showlist()\n",
    "    elif c == '2':\n",
    "        oid += 1\n",
    "        order(oid)\n",
    "    elif c == '3':\n",
    "        break\n",
    "    else:\n",
    "        print(\"Invalid choice\")"
   ]
  },
  {
   "cell_type": "code",
   "execution_count": null,
   "id": "740f9bd7",
   "metadata": {},
   "outputs": [],
   "source": []
  },
  {
   "cell_type": "code",
   "execution_count": null,
   "id": "7ca5cba5",
   "metadata": {},
   "outputs": [],
   "source": []
  }
 ],
 "metadata": {
  "kernelspec": {
   "display_name": "Python 3 (ipykernel)",
   "language": "python",
   "name": "python3"
  },
  "language_info": {
   "codemirror_mode": {
    "name": "ipython",
    "version": 3
   },
   "file_extension": ".py",
   "mimetype": "text/x-python",
   "name": "python",
   "nbconvert_exporter": "python",
   "pygments_lexer": "ipython3",
   "version": "3.11.4"
  }
 },
 "nbformat": 4,
 "nbformat_minor": 5
}
