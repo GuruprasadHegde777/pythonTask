{
 "cells": [
  {
   "cell_type": "code",
   "execution_count": 2,
   "id": "a0aacacb",
   "metadata": {},
   "outputs": [
    {
     "data": {
      "text/plain": [
       "{'India': [244, 310, 732, 811, 232, 469, 670, 709, 611, 498],\n",
       " 'USA': [409, 820, 115, 291, 559, 665, 417, 778, 126, 942],\n",
       " 'Japan': [819, 497, 319, 971, 467, 880, 589, 843, 271, 737],\n",
       " 'UK': [437, 715, 956, 270, 879, 357, 666, 873, 950, 651],\n",
       " 'Australia': [577, 477, 878, 260, 521, 894, 957, 440, 364, 921],\n",
       " 'Germany': [597, 905, 283, 379, 201, 762, 614, 867, 523, 648]}"
      ]
     },
     "execution_count": 2,
     "metadata": {},
     "output_type": "execute_result"
    }
   ],
   "source": [
    "import pandas as pd\n",
    "import random\n",
    "\n",
    "countries = ['India','USA','Japan','UK','Australia','Germany']\n",
    "gdp = {country:[random.randint(100,1000) for _ in range(10)] for country in countries}\n",
    "\n",
    "gdp"
   ]
  },
  {
   "cell_type": "code",
   "execution_count": 4,
   "id": "6fc11cad",
   "metadata": {},
   "outputs": [
    {
     "data": {
      "text/html": [
       "<div>\n",
       "<style scoped>\n",
       "    .dataframe tbody tr th:only-of-type {\n",
       "        vertical-align: middle;\n",
       "    }\n",
       "\n",
       "    .dataframe tbody tr th {\n",
       "        vertical-align: top;\n",
       "    }\n",
       "\n",
       "    .dataframe thead th {\n",
       "        text-align: right;\n",
       "    }\n",
       "</style>\n",
       "<table border=\"1\" class=\"dataframe\">\n",
       "  <thead>\n",
       "    <tr style=\"text-align: right;\">\n",
       "      <th></th>\n",
       "      <th>India</th>\n",
       "      <th>USA</th>\n",
       "      <th>Japan</th>\n",
       "      <th>UK</th>\n",
       "      <th>Australia</th>\n",
       "      <th>Germany</th>\n",
       "    </tr>\n",
       "  </thead>\n",
       "  <tbody>\n",
       "    <tr>\n",
       "      <th>2013</th>\n",
       "      <td>244</td>\n",
       "      <td>409</td>\n",
       "      <td>819</td>\n",
       "      <td>437</td>\n",
       "      <td>577</td>\n",
       "      <td>597</td>\n",
       "    </tr>\n",
       "    <tr>\n",
       "      <th>2014</th>\n",
       "      <td>310</td>\n",
       "      <td>820</td>\n",
       "      <td>497</td>\n",
       "      <td>715</td>\n",
       "      <td>477</td>\n",
       "      <td>905</td>\n",
       "    </tr>\n",
       "    <tr>\n",
       "      <th>2015</th>\n",
       "      <td>732</td>\n",
       "      <td>115</td>\n",
       "      <td>319</td>\n",
       "      <td>956</td>\n",
       "      <td>878</td>\n",
       "      <td>283</td>\n",
       "    </tr>\n",
       "    <tr>\n",
       "      <th>2016</th>\n",
       "      <td>811</td>\n",
       "      <td>291</td>\n",
       "      <td>971</td>\n",
       "      <td>270</td>\n",
       "      <td>260</td>\n",
       "      <td>379</td>\n",
       "    </tr>\n",
       "    <tr>\n",
       "      <th>2017</th>\n",
       "      <td>232</td>\n",
       "      <td>559</td>\n",
       "      <td>467</td>\n",
       "      <td>879</td>\n",
       "      <td>521</td>\n",
       "      <td>201</td>\n",
       "    </tr>\n",
       "    <tr>\n",
       "      <th>2018</th>\n",
       "      <td>469</td>\n",
       "      <td>665</td>\n",
       "      <td>880</td>\n",
       "      <td>357</td>\n",
       "      <td>894</td>\n",
       "      <td>762</td>\n",
       "    </tr>\n",
       "    <tr>\n",
       "      <th>2019</th>\n",
       "      <td>670</td>\n",
       "      <td>417</td>\n",
       "      <td>589</td>\n",
       "      <td>666</td>\n",
       "      <td>957</td>\n",
       "      <td>614</td>\n",
       "    </tr>\n",
       "    <tr>\n",
       "      <th>2020</th>\n",
       "      <td>709</td>\n",
       "      <td>778</td>\n",
       "      <td>843</td>\n",
       "      <td>873</td>\n",
       "      <td>440</td>\n",
       "      <td>867</td>\n",
       "    </tr>\n",
       "    <tr>\n",
       "      <th>2021</th>\n",
       "      <td>611</td>\n",
       "      <td>126</td>\n",
       "      <td>271</td>\n",
       "      <td>950</td>\n",
       "      <td>364</td>\n",
       "      <td>523</td>\n",
       "    </tr>\n",
       "    <tr>\n",
       "      <th>2022</th>\n",
       "      <td>498</td>\n",
       "      <td>942</td>\n",
       "      <td>737</td>\n",
       "      <td>651</td>\n",
       "      <td>921</td>\n",
       "      <td>648</td>\n",
       "    </tr>\n",
       "  </tbody>\n",
       "</table>\n",
       "</div>"
      ],
      "text/plain": [
       "      India  USA  Japan   UK  Australia  Germany\n",
       "2013    244  409    819  437        577      597\n",
       "2014    310  820    497  715        477      905\n",
       "2015    732  115    319  956        878      283\n",
       "2016    811  291    971  270        260      379\n",
       "2017    232  559    467  879        521      201\n",
       "2018    469  665    880  357        894      762\n",
       "2019    670  417    589  666        957      614\n",
       "2020    709  778    843  873        440      867\n",
       "2021    611  126    271  950        364      523\n",
       "2022    498  942    737  651        921      648"
      ]
     },
     "execution_count": 4,
     "metadata": {},
     "output_type": "execute_result"
    }
   ],
   "source": [
    "df = pd.DataFrame(gdp,index = range(2013,2023))\n",
    "df"
   ]
  },
  {
   "cell_type": "code",
   "execution_count": 7,
   "id": "d7f8b4cf",
   "metadata": {},
   "outputs": [
    {
     "data": {
      "text/plain": [
       "593.7166666666667"
      ]
     },
     "execution_count": 7,
     "metadata": {},
     "output_type": "execute_result"
    }
   ],
   "source": [
    "avg_gdp = df.mean().mean()\n",
    "avg_gdp"
   ]
  },
  {
   "cell_type": "code",
   "execution_count": null,
   "id": "61ce3d9b",
   "metadata": {},
   "outputs": [],
   "source": []
  }
 ],
 "metadata": {
  "kernelspec": {
   "display_name": "Python 3 (ipykernel)",
   "language": "python",
   "name": "python3"
  },
  "language_info": {
   "codemirror_mode": {
    "name": "ipython",
    "version": 3
   },
   "file_extension": ".py",
   "mimetype": "text/x-python",
   "name": "python",
   "nbconvert_exporter": "python",
   "pygments_lexer": "ipython3",
   "version": "3.11.4"
  }
 },
 "nbformat": 4,
 "nbformat_minor": 5
}
